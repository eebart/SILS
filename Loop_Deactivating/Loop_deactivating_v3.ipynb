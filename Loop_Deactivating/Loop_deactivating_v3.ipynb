{
 "cells": [
  {
   "cell_type": "code",
   "execution_count": 1,
   "metadata": {
    "collapsed": false
   },
   "outputs": [],
   "source": [
    "import LoopDeactivator as ld\n",
    "import VensimModifyer as vm\n"
   ]
  },
  {
   "cell_type": "code",
   "execution_count": 2,
   "metadata": {
    "collapsed": true
   },
   "outputs": [],
   "source": [
    "FromVar = \"in\"\n",
    "ToVar = \"ii\"\n",
    "filename = \"writetest2.mdl\""
   ]
  },
  {
   "cell_type": "code",
   "execution_count": 3,
   "metadata": {
    "collapsed": false
   },
   "outputs": [],
   "source": [
    "# Read original MDL file \n",
    "orig_list = ld.read_mdl_file(filename)"
   ]
  },
  {
   "cell_type": "markdown",
   "metadata": {},
   "source": [
    "# To duplicate a formula"
   ]
  },
  {
   "cell_type": "code",
   "execution_count": 8,
   "metadata": {
    "code_folding": [],
    "collapsed": false,
    "scrolled": true
   },
   "outputs": [],
   "source": [
    "# Find formula start and end.\n",
    "i_start, i_end = ld.find_var_function(ToVar, orig_list)"
   ]
  },
  {
   "cell_type": "code",
   "execution_count": 10,
   "metadata": {
    "code_folding": [],
    "collapsed": true
   },
   "outputs": [],
   "source": [
    "# duplicate formula of a variable\n",
    "new_mdl_list = ld.duplicate_formula(ToVar, i_start, i_end, orig_list)"
   ]
  },
  {
   "cell_type": "code",
   "execution_count": 11,
   "metadata": {
    "code_folding": [],
    "collapsed": false,
    "scrolled": true
   },
   "outputs": [],
   "source": [
    "# Add sketch information\n",
    "new_mdl_list = ld.add_to_vensim_sketch(ToVar, new_mdl_list)"
   ]
  },
  {
   "cell_type": "code",
   "execution_count": 12,
   "metadata": {
    "collapsed": false
   },
   "outputs": [
    {
     "name": "stdout",
     "output_type": "stream",
     "text": [
      "An old file has been overwritten\n",
      "File has been saved as: writetest2.mdl\n"
     ]
    }
   ],
   "source": [
    "# To save\n",
    "ld.save_list_to_mdl(new_mdl_list, \"writetest2.mdl\")"
   ]
  },
  {
   "cell_type": "markdown",
   "metadata": {
    "collapsed": true
   },
   "source": [
    "## To add a formula "
   ]
  },
  {
   "cell_type": "code",
   "execution_count": 5,
   "metadata": {
    "collapsed": false,
    "scrolled": true
   },
   "outputs": [],
   "source": [
    "orig_list = vm.AddVariable(\"NewVar_1\", \"in * out\", orig_list, Gaming=True)"
   ]
  },
  {
   "cell_type": "code",
   "execution_count": 6,
   "metadata": {
    "collapsed": false,
    "scrolled": false
   },
   "outputs": [
    {
     "name": "stdout",
     "output_type": "stream",
     "text": [
      "New filename is: addedVarTest.mdl\n",
      "An old file has been overwritten\n",
      "File has been saved as: addedVarTest.mdl\n"
     ]
    }
   ],
   "source": [
    "ld.save_list_to_mdl(orig_list, \"addedVarTest\")"
   ]
  },
  {
   "cell_type": "markdown",
   "metadata": {},
   "source": [
    "## Change variables in Formula"
   ]
  },
  {
   "cell_type": "code",
   "execution_count": 5,
   "metadata": {
    "collapsed": false,
    "scrolled": false
   },
   "outputs": [
    {
     "name": "stdout",
     "output_type": "stream",
     "text": [
      "Old formula: ['GameTest= GAME (\\n', '\\tout input met een hele lange naam die bla bla +out input met een hele lange naam die bla bla\\\\\\n', '\\t\\t+out input met een hele lange naam die bla bla+out input met een hele lange naam die bla bla\\\\\\n', '\\t\\t+out input met een hele lange naam die bla bla+out input met een hele lange naam die bla bla\\\\\\n', '\\t\\t+out input met een hele lange naam die bla bla+out input met een hele lange naam die bla bla\\\\\\n', '\\t\\t+out input met een hele lange naam die bla bla+out input met een hele lange naam die bla bla\\\\\\n', '\\t\\t)\\n']\n",
      "New formula: ['GameTest= GAME (\\n', '\\tnew1 +new1\\\\\\n', '\\t\\t+new1+new1\\\\\\n', '\\t\\t+new1+new1\\\\\\n', '\\t\\t+new1+new1\\\\\\n', '\\t\\t+new1+new1\\\\\\n', '\\t\\t)\\n']\n"
     ]
    }
   ],
   "source": [
    "new_mdl = vm.replace_vars_in_RHS(orig_list,\"GameTest\", \"out input met een hele lange naam die bla bla\", \"new1\")"
   ]
  },
  {
   "cell_type": "code",
   "execution_count": 7,
   "metadata": {
    "collapsed": false
   },
   "outputs": [
    {
     "name": "stdout",
     "output_type": "stream",
     "text": [
      "New file has been saved\n",
      "File has been saved as: TestChangeFormula.mdl\n"
     ]
    }
   ],
   "source": [
    "ld.save_list_to_mdl(new_mdl,\"TestChangeFormula.mdl\")"
   ]
  },
  {
   "cell_type": "code",
   "execution_count": null,
   "metadata": {
    "collapsed": true
   },
   "outputs": [],
   "source": []
  },
  {
   "cell_type": "markdown",
   "metadata": {},
   "source": [
    "## Deactivating Phaff"
   ]
  },
  {
   "cell_type": "code",
   "execution_count": null,
   "metadata": {
    "collapsed": true
   },
   "outputs": [],
   "source": [
    "# Duplicate (From)variable\n",
    "# add Switch\n",
    "# add Time for switch\n",
    "# Change formula of duplicated variable to use ifthenelse (switch, time_for_switch)\n",
    "# Change formula (To)variable to contain the DuplicateVar"
   ]
  }
 ],
 "metadata": {
  "kernelspec": {
   "display_name": "Python 3",
   "language": "python",
   "name": "python3"
  },
  "language_info": {
   "codemirror_mode": {
    "name": "ipython",
    "version": 3
   },
   "file_extension": ".py",
   "mimetype": "text/x-python",
   "name": "python",
   "nbconvert_exporter": "python",
   "pygments_lexer": "ipython3",
   "version": "3.6.0"
  }
 },
 "nbformat": 4,
 "nbformat_minor": 2
}
