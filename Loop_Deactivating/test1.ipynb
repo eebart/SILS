{
 "cells": [
  {
   "cell_type": "code",
   "execution_count": 1,
   "metadata": {
    "collapsed": true
   },
   "outputs": [],
   "source": [
    "import os"
   ]
  },
  {
   "cell_type": "code",
   "execution_count": 2,
   "metadata": {
    "collapsed": false
   },
   "outputs": [
    {
     "data": {
      "text/plain": [
       "['Current.vdf', 'new_model.3vm', 'new_model.mdl', 'original_model.mdl']"
      ]
     },
     "execution_count": 2,
     "metadata": {},
     "output_type": "execute_result"
    }
   ],
   "source": [
    "os.listdir('MDL_changing/')"
   ]
  },
  {
   "cell_type": "code",
   "execution_count": 3,
   "metadata": {
    "collapsed": false
   },
   "outputs": [],
   "source": [
    "# create new model\n",
    "new_file_name = \"new_model.mdl\"\n",
    "if new_file_name in os.listdir('MDL_changing/'):\n",
    "    new_file = open(\"MDL_changing/{}\".format(new_file_name), 'w')\n",
    "else:\n",
    "    new_file = open(\"MDL_changing/{}\".format(new_file_name), 'x')\n"
   ]
  },
  {
   "cell_type": "code",
   "execution_count": 4,
   "metadata": {
    "collapsed": true
   },
   "outputs": [],
   "source": [
    "# open original model"
   ]
  },
  {
   "cell_type": "code",
   "execution_count": 5,
   "metadata": {
    "collapsed": false
   },
   "outputs": [],
   "source": [
    "orig_file = open(\"MDL_changing/original_model.mdl\", 'r')"
   ]
  },
  {
   "cell_type": "code",
   "execution_count": 6,
   "metadata": {
    "collapsed": false
   },
   "outputs": [],
   "source": [
    "orig_list = orig_file.readlines()"
   ]
  },
  {
   "cell_type": "code",
   "execution_count": 7,
   "metadata": {
    "collapsed": false,
    "scrolled": false
   },
   "outputs": [
    {
     "data": {
      "text/plain": [
       "12"
      ]
     },
     "execution_count": 7,
     "metadata": {},
     "output_type": "execute_result"
    }
   ],
   "source": [
    "orig_list.index(\"test3= GAME (\\n\")"
   ]
  },
  {
   "cell_type": "code",
   "execution_count": 8,
   "metadata": {
    "collapsed": false
   },
   "outputs": [
    {
     "data": {
      "text/plain": [
       "['{UTF-8}\\n',\n",
       " 'test2=\\n',\n",
       " '\\ttest3\\n',\n",
       " '\\t~\\t\\n',\n",
       " '\\t~\\t\\t|\\n',\n",
       " '\\n',\n",
       " 'test1= GAME (\\n',\n",
       " '\\t5\\n',\n",
       " '\\t)\\n',\n",
       " '\\t~\\t\\n',\n",
       " '\\t~\\t\\t|\\n',\n",
       " '\\t\\n',\n",
       " 'test3= GAME (\\n',\n",
       " '\\t5\\n',\n",
       " '\\t)\\n',\n",
       " '\\t~\\t\\n',\n",
       " '\\t~\\t\\t|\\n',\n",
       " '\\n',\n",
       " '********************************************************\\n',\n",
       " '\\t.Control\\n',\n",
       " '********************************************************~\\n',\n",
       " '\\t\\tSimulation Control Parameters\\n',\n",
       " '\\t|\\n',\n",
       " '\\n',\n",
       " 'FINAL TIME  = 100\\n',\n",
       " '\\t~\\tMonth\\n',\n",
       " '\\t~\\tThe final time for the simulation.\\n',\n",
       " '\\t|\\n',\n",
       " '\\n',\n",
       " 'INITIAL TIME  = 0\\n',\n",
       " '\\t~\\tMonth\\n',\n",
       " '\\t~\\tThe initial time for the simulation.\\n',\n",
       " '\\t|\\n',\n",
       " '\\n',\n",
       " 'SAVEPER  = \\n',\n",
       " '        TIME STEP\\n',\n",
       " '\\t~\\tMonth [0,?]\\n',\n",
       " '\\t~\\tThe frequency with which output is stored.\\n',\n",
       " '\\t|\\n',\n",
       " '\\n',\n",
       " 'TIME STEP  = 1\\n',\n",
       " '\\t~\\tMonth [0,?]\\n',\n",
       " '\\t~\\tThe time step for the simulation.\\n',\n",
       " '\\t|\\n',\n",
       " '\\n',\n",
       " '\\\\\\\\\\\\---/// Sketch information - do not modify anything except names\\n',\n",
       " 'V300  Do not put anything below this section - it will be ignored\\n',\n",
       " '*View 1\\n',\n",
       " '$192-192-192,0,Times New Roman|12||0-0-0|0-0-0|0-0-255|-1--1--1|-1--1--1|96,96,100,0\\n',\n",
       " '10,1,test1,412,200,17,11,8,3,0,0,0,0,0,0\\n',\n",
       " '10,2,test2,814,217,17,11,8,3,0,0,0,0,0,0\\n',\n",
       " '10,3,test3,1214,247,17,11,8,3,0,0,0,0,0,0\\n',\n",
       " '///---\\\\\\\\\\\\\\n',\n",
       " ':L\\x7f<%^E!@\\n',\n",
       " '9:Current\\n',\n",
       " '15:0,0,0,0,0,0\\n',\n",
       " '19:100,0\\n',\n",
       " '27:2,\\n',\n",
       " '34:0,\\n',\n",
       " '5:test2\\n',\n",
       " '24:0\\n',\n",
       " '25:0\\n',\n",
       " '26:0\\n']"
      ]
     },
     "execution_count": 8,
     "metadata": {},
     "output_type": "execute_result"
    }
   ],
   "source": [
    "orig_list"
   ]
  },
  {
   "cell_type": "code",
   "execution_count": 10,
   "metadata": {
    "collapsed": false,
    "scrolled": true
   },
   "outputs": [
    {
     "data": {
      "text/plain": [
       "'\\ttest1\\n'"
      ]
     },
     "execution_count": 10,
     "metadata": {},
     "output_type": "execute_result"
    }
   ],
   "source": [
    "a = ''\n",
    "for i,x in enumerate (orig_list[13]):\n",
    "    if i != 1:\n",
    "        a += x\n",
    "    if i == 1:\n",
    "        a += 'test1'\n",
    "a"
   ]
  },
  {
   "cell_type": "code",
   "execution_count": 59,
   "metadata": {
    "collapsed": false
   },
   "outputs": [],
   "source": [
    "orig_list[13] = a"
   ]
  },
  {
   "cell_type": "code",
   "execution_count": 60,
   "metadata": {
    "collapsed": false
   },
   "outputs": [
    {
     "data": {
      "text/plain": [
       "['{UTF-8}\\n',\n",
       " 'test2=\\n',\n",
       " '\\ttest3\\n',\n",
       " '\\t~\\t\\n',\n",
       " '\\t~\\t\\t|\\n',\n",
       " '\\n',\n",
       " 'test1= GAME (\\n',\n",
       " '\\t5\\n',\n",
       " '\\t)\\n',\n",
       " '\\t~\\t\\n',\n",
       " '\\t~\\t\\t|\\n',\n",
       " '\\t\\n',\n",
       " 'test3= GAME (\\n',\n",
       " '\\ttest1\\n',\n",
       " '\\t)\\n',\n",
       " '\\t~\\t\\n',\n",
       " '\\t~\\t\\t|\\n',\n",
       " '\\n',\n",
       " '********************************************************\\n',\n",
       " '\\t.Control\\n',\n",
       " '********************************************************~\\n',\n",
       " '\\t\\tSimulation Control Parameters\\n',\n",
       " '\\t|\\n',\n",
       " '\\n',\n",
       " 'FINAL TIME  = 100\\n',\n",
       " '\\t~\\tMonth\\n',\n",
       " '\\t~\\tThe final time for the simulation.\\n',\n",
       " '\\t|\\n',\n",
       " '\\n',\n",
       " 'INITIAL TIME  = 0\\n',\n",
       " '\\t~\\tMonth\\n',\n",
       " '\\t~\\tThe initial time for the simulation.\\n',\n",
       " '\\t|\\n',\n",
       " '\\n',\n",
       " 'SAVEPER  = \\n',\n",
       " '        TIME STEP\\n',\n",
       " '\\t~\\tMonth [0,?]\\n',\n",
       " '\\t~\\tThe frequency with which output is stored.\\n',\n",
       " '\\t|\\n',\n",
       " '\\n',\n",
       " 'TIME STEP  = 1\\n',\n",
       " '\\t~\\tMonth [0,?]\\n',\n",
       " '\\t~\\tThe time step for the simulation.\\n',\n",
       " '\\t|\\n',\n",
       " '\\n',\n",
       " '\\\\\\\\\\\\---/// Sketch information - do not modify anything except names\\n',\n",
       " 'V300  Do not put anything below this section - it will be ignored\\n',\n",
       " '*View 1\\n',\n",
       " '$192-192-192,0,Times New Roman|12||0-0-0|0-0-0|0-0-255|-1--1--1|-1--1--1|96,96,100,0\\n',\n",
       " '10,1,test1,412,200,17,11,8,3,0,0,0,0,0,0\\n',\n",
       " '10,2,test2,814,217,17,11,8,3,0,0,0,0,0,0\\n',\n",
       " '10,3,test3,1214,247,17,11,8,3,0,0,0,0,0,0\\n',\n",
       " '///---\\\\\\\\\\\\\\n',\n",
       " ':L\\x7f<%^E!@\\n',\n",
       " '9:Current\\n',\n",
       " '15:0,0,0,0,0,0\\n',\n",
       " '19:100,0\\n',\n",
       " '27:2,\\n',\n",
       " '34:0,\\n',\n",
       " '5:test2\\n',\n",
       " '24:0\\n',\n",
       " '25:0\\n',\n",
       " '26:0\\n']"
      ]
     },
     "execution_count": 60,
     "metadata": {},
     "output_type": "execute_result"
    }
   ],
   "source": [
    "orig_list"
   ]
  },
  {
   "cell_type": "code",
   "execution_count": 61,
   "metadata": {
    "collapsed": false
   },
   "outputs": [],
   "source": [
    "for x in orig_list:\n",
    "    new_file.write(x)"
   ]
  },
  {
   "cell_type": "code",
   "execution_count": 62,
   "metadata": {
    "collapsed": true
   },
   "outputs": [],
   "source": [
    "new_file.close()"
   ]
  }
 ],
 "metadata": {
  "kernelspec": {
   "display_name": "Python 3",
   "language": "python",
   "name": "python3"
  },
  "language_info": {
   "codemirror_mode": {
    "name": "ipython",
    "version": 3
   },
   "file_extension": ".py",
   "mimetype": "text/x-python",
   "name": "python",
   "nbconvert_exporter": "python",
   "pygments_lexer": "ipython3",
   "version": "3.6.0"
  }
 },
 "nbformat": 4,
 "nbformat_minor": 2
}
