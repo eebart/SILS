{
 "cells": [
  {
   "cell_type": "code",
   "execution_count": 1,
   "metadata": {
    "collapsed": true
   },
   "outputs": [],
   "source": [
    "import LoopDeactivator as ld"
   ]
  },
  {
   "cell_type": "code",
   "execution_count": 1,
   "metadata": {
    "collapsed": true
   },
   "outputs": [],
   "source": [
    "def Deactivate_Loop_Phaff(FromVar,ToVar,filename):\n",
    "    '''\n",
    "    This function modifies a MDL file to deactive a loop via the edge FromVar - ToVar\n",
    "    input:\n",
    "    FromVar: string with the node (variable name) where the edge starts \n",
    "    ToVar: string with the node (variable name) where the edge ends\n",
    "    filename: string with filepath of the file.\n",
    "    ''' \n",
    "    orig_file = open(filename)\n",
    "    \n",
    "    print(FromVar,ToVar,filename)\n",
    "    return"
   ]
  },
  {
   "cell_type": "code",
   "execution_count": 3,
   "metadata": {
    "collapsed": true
   },
   "outputs": [],
   "source": [
    "FromVar = \"in\"\n",
    "ToVar = \"out\"\n",
    "filename = \"test.mdl\""
   ]
  },
  {
   "cell_type": "code",
   "execution_count": 4,
   "metadata": {
    "collapsed": false
   },
   "outputs": [],
   "source": [
    "orig_file = open(filename, 'r')\n",
    "orig_list = orig_file.readlines()"
   ]
  },
  {
   "cell_type": "code",
   "execution_count": 7,
   "metadata": {
    "collapsed": false
   },
   "outputs": [],
   "source": [
    "i_start, i_end = ld.find_var_function(FromVar,orig_list)"
   ]
  },
  {
   "cell_type": "code",
   "execution_count": 9,
   "metadata": {
    "collapsed": false
   },
   "outputs": [
    {
     "name": "stdout",
     "output_type": "stream",
     "text": [
      "in=\n",
      "\n",
      "\tin input*stock\n",
      "\n"
     ]
    }
   ],
   "source": [
    "for i in orig_list[i_start : i_end]:\n",
    "    print(i)"
   ]
  }
 ],
 "metadata": {
  "kernelspec": {
   "display_name": "Python 3",
   "language": "python",
   "name": "python3"
  },
  "language_info": {
   "codemirror_mode": {
    "name": "ipython",
    "version": 3
   },
   "file_extension": ".py",
   "mimetype": "text/x-python",
   "name": "python",
   "nbconvert_exporter": "python",
   "pygments_lexer": "ipython3",
   "version": "3.6.0"
  }
 },
 "nbformat": 4,
 "nbformat_minor": 2
}
