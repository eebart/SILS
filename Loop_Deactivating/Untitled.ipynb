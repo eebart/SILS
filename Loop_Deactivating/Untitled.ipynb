{
 "cells": [
  {
   "cell_type": "code",
   "execution_count": 1,
   "metadata": {
    "collapsed": false,
    "scrolled": true
   },
   "outputs": [
    {
     "name": "stdout",
     "output_type": "stream",
     "text": [
      "Collecting jupyter_contrib_nbextensions\n",
      "  Downloading jupyter_contrib_nbextensions-0.2.6-py2.py3-none-any.whl (19.5MB)\n",
      "Requirement already satisfied: jupyter-core in c:\\users\\gebruiker\\anaconda3\\lib\\site-packages (from jupyter_contrib_nbextensions)\n",
      "Requirement already satisfied: notebook>=4.0 in c:\\users\\gebruiker\\anaconda3\\lib\\site-packages (from jupyter_contrib_nbextensions)\n",
      "Requirement already satisfied: traitlets>=4.1 in c:\\users\\gebruiker\\anaconda3\\lib\\site-packages (from jupyter_contrib_nbextensions)\n",
      "Requirement already satisfied: tornado in c:\\users\\gebruiker\\anaconda3\\lib\\site-packages (from jupyter_contrib_nbextensions)\n",
      "Requirement already satisfied: nbconvert in c:\\users\\gebruiker\\anaconda3\\lib\\site-packages (from jupyter_contrib_nbextensions)\n",
      "Collecting jupyter-highlight-selected-word>=0.0.10 (from jupyter_contrib_nbextensions)\n",
      "  Downloading jupyter_highlight_selected_word-0.0.11-py2.py3-none-any.whl\n",
      "Requirement already satisfied: psutil>=2.2.1 in c:\\users\\gebruiker\\anaconda3\\lib\\site-packages (from jupyter_contrib_nbextensions)\n",
      "Collecting jupyter-contrib-core>=0.3 (from jupyter_contrib_nbextensions)\n",
      "  Downloading jupyter_contrib_core-0.3.0-py2.py3-none-any.whl\n",
      "Collecting jupyter-nbextensions-configurator>=0.2.4 (from jupyter_contrib_nbextensions)\n",
      "  Downloading jupyter_nbextensions_configurator-0.2.4-py2.py3-none-any.whl (464kB)\n",
      "Requirement already satisfied: ipython-genutils in c:\\users\\gebruiker\\anaconda3\\lib\\site-packages (from jupyter_contrib_nbextensions)\n",
      "Collecting jupyter-latex-envs>=1.3.8 (from jupyter_contrib_nbextensions)\n",
      "  Downloading jupyter_latex_envs-1.3.8.4.tar.gz (792kB)\n",
      "Requirement already satisfied: pyyaml in c:\\users\\gebruiker\\anaconda3\\lib\\site-packages (from jupyter_contrib_nbextensions)\n",
      "Requirement already satisfied: setuptools in c:\\users\\gebruiker\\anaconda3\\lib\\site-packages\\setuptools-27.2.0-py3.6.egg (from jupyter-contrib-core>=0.3->jupyter_contrib_nbextensions)\n",
      "Requirement already satisfied: ipython in c:\\users\\gebruiker\\anaconda3\\lib\\site-packages (from jupyter-latex-envs>=1.3.8->jupyter_contrib_nbextensions)\n",
      "Building wheels for collected packages: jupyter-latex-envs\n",
      "  Running setup.py bdist_wheel for jupyter-latex-envs: started\n",
      "  Running setup.py bdist_wheel for jupyter-latex-envs: finished with status 'done'\n",
      "  Stored in directory: C:\\Users\\Gebruiker\\AppData\\Local\\pip\\Cache\\wheels\\16\\ce\\bb\\c4baea43e79912edf809c78df79adfbd316fc13b73c6587b41\n",
      "Successfully built jupyter-latex-envs\n",
      "Installing collected packages: jupyter-highlight-selected-word, jupyter-contrib-core, jupyter-nbextensions-configurator, jupyter-latex-envs, jupyter-contrib-nbextensions\n",
      "Successfully installed jupyter-contrib-core-0.3.0 jupyter-contrib-nbextensions-0.2.6 jupyter-highlight-selected-word-0.0.11 jupyter-latex-envs-1.3.8.4 jupyter-nbextensions-configurator-0.2.4\n"
     ]
    }
   ],
   "source": [
    "!pip install jupyter_contrib_nbextensions"
   ]
  },
  {
   "cell_type": "code",
   "execution_count": null,
   "metadata": {
    "collapsed": true
   },
   "outputs": [],
   "source": [
    "!jupyter contrib nbextension install --system "
   ]
  }
 ],
 "metadata": {
  "kernelspec": {
   "display_name": "Python 3",
   "language": "python",
   "name": "python3"
  },
  "language_info": {
   "codemirror_mode": {
    "name": "ipython",
    "version": 3
   },
   "file_extension": ".py",
   "mimetype": "text/x-python",
   "name": "python",
   "nbconvert_exporter": "python",
   "pygments_lexer": "ipython3",
   "version": "3.6.0"
  }
 },
 "nbformat": 4,
 "nbformat_minor": 2
}
